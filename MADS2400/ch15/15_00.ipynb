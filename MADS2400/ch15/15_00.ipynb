{
 "cells": [
  {
   "cell_type": "markdown",
   "metadata": {},
   "source": [
    "# 15. Machine Learning: Classification, Regression and Clustering\n",
    "## Objectives\n",
    "* Use scikit-learn with popular datasets to perform machine learning studies.\n",
    "* Use Seaborn and Matplotlib to visualize and explore data. \n",
    "* Perform supervised machine learning with k-nearest neighbors classification and linear regression.\n",
    "* Perform multi-classification with Digits dataset.\n",
    "* Divide a dataset into training, test and validation sets.\n",
    "* Tune model hyperparameters with k-fold cross-validation.\n",
    "* Measure model performance.\n",
    "* Display a confusion matrix showing classification prediction hits and misses.\n",
    "* Perform multiple linear regression with the California Housing dataset.\n",
    "* Perform dimensionality reduction with PCA and t-SNE on the Iris and Digits datasets to prepare them for two-dimensional visualizations.\n",
    "* Perform unsupervised machine learning with k-means clustering and the Iris dataset."
   ]
  },
  {
   "cell_type": "markdown",
   "metadata": {},
   "source": [
    "## Outline\n",
    "* \t[15.1 Introduction to Machine Learning](./15_01.ipynb)\n",
    "*\t[15.2/15.3 Case Study: Classification with k-Nearest Neighbors and the Digits Dataset, Part 1](./15_02-03.ipynb)\n",
    "*\t[15.4 Case Study: Time Series and Simple Linear Regression](./15_04.ipynb)\n",
    "*\t[15.5 Case Study: Multiple Linear Regression with the California Housing Dataset](./15_05.ipynb)\n",
    "*\t[15.6 Case Study: Unsupervised Machine Learning, Part 1—Dimensionality Reduction](./15_06.ipynb)\n",
    "*\t[15.7 Case Study: Unsupervised Machine Learning, Part 2—k-Means Clustering](./15_07.ipynb)"
   ]
  },
  {
   "cell_type": "markdown",
   "metadata": {},
   "source": [
    "------\n",
    "&copy;1992&ndash;2020 by Pearson Education, Inc. All Rights Reserved. This content is based on Chapter 15 of the book **Intro to Python for Computer Science and Data Science: Learning to Program with AI, Big Data and the Cloud**.\n",
    "\n",
    "DISCLAIMER: The authors and publisher of this book have used their \n",
    "best efforts in preparing the book. These efforts include the \n",
    "development, research, and testing of the theories and programs \n",
    "to determine their effectiveness. The authors and publisher make \n",
    "no warranty of any kind, expressed or implied, with regard to these \n",
    "programs or to the documentation contained in these books. The authors \n",
    "and publisher shall not be liable in any event for incidental or \n",
    "consequential damages in connection with, or arising out of, the \n",
    "furnishing, performance, or use of these programs.                  "
   ]
  }
 ],
 "metadata": {
  "celltoolbar": "Slideshow",
  "kernelspec": {
   "display_name": "Python 3 (ipykernel)",
   "language": "python",
   "name": "python3"
  },
  "language_info": {
   "codemirror_mode": {
    "name": "ipython",
    "version": 3
   },
   "file_extension": ".py",
   "mimetype": "text/x-python",
   "name": "python",
   "nbconvert_exporter": "python",
   "pygments_lexer": "ipython3",
   "version": "3.8.12"
  }
 },
 "nbformat": 4,
 "nbformat_minor": 2
}
