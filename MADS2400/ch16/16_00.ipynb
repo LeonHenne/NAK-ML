{
 "cells": [
  {
   "cell_type": "markdown",
   "metadata": {},
   "source": [
    "# 16. Deep Learning\n",
    "# Objectives\n",
    "* Understand what a neural network is and how it enables deep learning.\n",
    "* Create Keras neural networks.\n",
    "* Understand Keras layers, activation functions, loss functions and optimizers.\n",
    "* Use a Keras convolutional neural network (CNN) trained on the MNIST dataset to recognize handwritten digits.\n",
    "* Use TensorBoard to visualize the progress of training deep-learning networks.\n",
    "* Use a Keras recurrent neural network (RNN) trained on the IMDb dataset to perform binary classification of positive and negative movie reviews."
   ]
  },
  {
   "cell_type": "markdown",
   "metadata": {},
   "source": [
    "# Outline\n",
    "* [16.1 Introduction](16_01.ipynb)\n",
    "* [16.2 Keras Built-In Datasets](16_02.ipynb)\n",
    "* [16.3 Custom Anaconda Environments](16_03.ipynb)\n",
    "* [16.4 Neural Networks](16_04.ipynb)\n",
    "* [16.5 Tensors](16_05.ipynb)\n",
    "* [16.6 Convolutional Neural Networks for Vision; Multi-Classification with the MNIST Dataset](16_06.ipynb)\n",
    "* [16.7 Visualizing Neural Network Training with TensorBoard](16_07.ipynb)\n",
    "* [16.8 ConvnetJS: Browser-Based Deep-Learning Training and Visualization](16_08.ipynb)\n",
    "* [16.9 Recurrent Neural Networks for Sequences; Sentiment Analysis with the IMDb Dataset](16_09.ipynb)\n",
    "* [16.10 Tuning Deep Learning Models](16_10.ipynb)\n",
    "* [16.11 Convnet Models Pretrained on ImageNet](16_11.ipynb)"
   ]
  },
  {
   "cell_type": "markdown",
   "metadata": {},
   "source": [
    "------\n",
    "&copy;1992&ndash;2020 by Pearson Education, Inc. All Rights Reserved. This content is based on Chapter 16 of the book **Intro to Python for Computer Science and Data Science: Learning to Program with AI, Big Data and the Cloud**.\n",
    "\n",
    "DISCLAIMER: The authors and publisher of this book have used their \n",
    "best efforts in preparing the book. These efforts include the \n",
    "development, research, and testing of the theories and programs \n",
    "to determine their effectiveness. The authors and publisher make \n",
    "no warranty of any kind, expressed or implied, with regard to these \n",
    "programs or to the documentation contained in these books. The authors \n",
    "and publisher shall not be liable in any event for incidental or \n",
    "consequential damages in connection with, or arising out of, the \n",
    "furnishing, performance, or use of these programs.                  "
   ]
  }
 ],
 "metadata": {
  "celltoolbar": "Slideshow",
  "kernelspec": {
   "display_name": "Python 3 (ipykernel)",
   "language": "python",
   "name": "python3"
  },
  "language_info": {
   "codemirror_mode": {
    "name": "ipython",
    "version": 3
   },
   "file_extension": ".py",
   "mimetype": "text/x-python",
   "name": "python",
   "nbconvert_exporter": "python",
   "pygments_lexer": "ipython3",
   "version": "3.8.12"
  }
 },
 "nbformat": 4,
 "nbformat_minor": 2
}
